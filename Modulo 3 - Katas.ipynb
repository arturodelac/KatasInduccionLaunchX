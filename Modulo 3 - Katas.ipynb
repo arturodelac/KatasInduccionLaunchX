{
 "cells": [
  {
   "cell_type": "markdown",
   "metadata": {},
   "source": [
    "##Ejercicio declaraciones if, else y elif"
   ]
  },
  {
   "cell_type": "code",
   "execution_count": 5,
   "metadata": {},
   "outputs": [
    {
     "name": "stdout",
     "output_type": "stream",
     "text": [
      "Advertencia, se acerca un asteroide\n",
      "Adevertencia se acerca un asteroide peligroso\n"
     ]
    }
   ],
   "source": [
    "velocidadAsteroide = 49;\n",
    "\n",
    "if velocidadAsteroide >=25 :\n",
    "    print(\"Advertencia, se acerca un asteroide\")\n"
   ]
  },
  {
   "cell_type": "code",
   "execution_count": null,
   "metadata": {},
   "outputs": [],
   "source": [
    "\n",
    "velocidadAsteroide = 19;\n",
    "if velocidadAsteroide >=20:\n",
    "    print(\"Busca el asteroide en el cielo!\")"
   ]
  },
  {
   "cell_type": "code",
   "execution_count": 7,
   "metadata": {},
   "outputs": [
    {
     "name": "stdout",
     "output_type": "stream",
     "text": [
      "Busca el asteroide en el cielo\n",
      "Advertencia se acerca un asteroide peligroso\n"
     ]
    }
   ],
   "source": [
    "velocidadAsteroide = 25;\n",
    "tamAsteroide = 25;\n",
    "if velocidadAsteroide >=20:\n",
    "    print(\"Busca el asteroide en el cielo\")\n",
    "else: print(\"No hay nada que ver\")\n",
    "if velocidadAsteroide>=25 and tamAsteroide >=25 and tamAsteroide <=100:\n",
    "    print(\"Advertencia se acerca un asteroide peligroso\");\n",
    "elif velocidadAsteroide>=25:\n",
    "    print(\"Advertencia, se acerca un asteroide con demasida velocidad\")\n",
    "else: print(\"No hay ninguna amenaza\")"
   ]
  }
 ],
 "metadata": {
  "interpreter": {
   "hash": "916dbcbb3f70747c44a77c7bcd40155683ae19c65e1c03b4aa3499c5328201f1"
  },
  "kernelspec": {
   "display_name": "Python 3.8.10 64-bit",
   "language": "python",
   "name": "python3"
  },
  "language_info": {
   "codemirror_mode": {
    "name": "ipython",
    "version": 3
   },
   "file_extension": ".py",
   "mimetype": "text/x-python",
   "name": "python",
   "nbconvert_exporter": "python",
   "pygments_lexer": "ipython3",
   "version": "3.8.10"
  },
  "orig_nbformat": 4
 },
 "nbformat": 4,
 "nbformat_minor": 2
}
