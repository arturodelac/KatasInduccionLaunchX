{
 "cells": [
  {
   "cell_type": "markdown",
   "metadata": {},
   "source": [
    "### Ejercicio 1: Trabajar con argumentos en funciones\n"
   ]
  },
  {
   "cell_type": "code",
   "execution_count": 80,
   "metadata": {},
   "outputs": [],
   "source": [
    "def tanques(tanque1, tanque2, tanque3):\n",
    "    valores = [(tanque1 + tanque2 + tanque3)/3]\n",
    "    promedio = tanques_promedio(valores)\n",
    "    return f\"\"\"Tanque 1: {tanque1}%\n",
    "Tanque 2: {tanque2}%\n",
    "Tanque 3: {tanque3}% \n",
    "{promedio}%\n",
    "    \"\"\""
   ]
  },
  {
   "cell_type": "code",
   "execution_count": 81,
   "metadata": {},
   "outputs": [
    {
     "name": "stdout",
     "output_type": "stream",
     "text": [
      "Tanque 1: 30%\n",
      "Tanque 2: 20%\n",
      "Tanque 3: 50% \n",
      "Nivel promedio de los tanques 33.333333333333336%\n",
      "    \n"
     ]
    }
   ],
   "source": [
    "print(tanques(30, 20, 50))"
   ]
  },
  {
   "cell_type": "code",
   "execution_count": 82,
   "metadata": {},
   "outputs": [],
   "source": [
    "def tanques_promedio(valores):\n",
    "    promedio = 0\n",
    "    for valor in valores:\n",
    "        promedio = promedio + valor\n",
    "    promedio = promedio / len(valores)\n",
    "\n",
    "    return \"Nivel promedio de los tanques \" + str(promedio) "
   ]
  },
  {
   "cell_type": "markdown",
   "metadata": {},
   "source": [
    "## Ejercicio 2: Trabajo con argumentos de palabra clave"
   ]
  },
  {
   "cell_type": "code",
   "execution_count": 83,
   "metadata": {},
   "outputs": [],
   "source": [
    "def informe(hora,tiempo,destino,tanque_externo,tanque_interno):\n",
    "    return f\"\"\"\n",
    "    Destino: {destino}\n",
    "    Duracion total: {hora + tiempo} minutos\n",
    "    Gasolina: {tanque_externo + tanque_interno} galones\n",
    "    \"\"\"\n"
   ]
  },
  {
   "cell_type": "code",
   "execution_count": 84,
   "metadata": {},
   "outputs": [
    {
     "name": "stdout",
     "output_type": "stream",
     "text": [
      "\n",
      "    Destino: Moon\n",
      "    Duracion total: 65 minutos\n",
      "    Gasolina: 500000 galones\n",
      "    \n"
     ]
    }
   ],
   "source": [
    "print(informe(14, 51, \"Moon\", 200000, 300000))"
   ]
  },
  {
   "cell_type": "code",
   "execution_count": 85,
   "metadata": {},
   "outputs": [],
   "source": [
    "def informe(destino,*tiempo,**tanques):\n",
    "    return f\"\"\"\n",
    "    Destino: {destino}\n",
    "    Duracion total: {sum(tiempo)} minutos\n",
    "    Gasolina: {sum(tanques.values())} galones\n",
    "    \"\"\""
   ]
  },
  {
   "cell_type": "code",
   "execution_count": 86,
   "metadata": {},
   "outputs": [
    {
     "name": "stdout",
     "output_type": "stream",
     "text": [
      "\n",
      "    Destino: Moon\n",
      "    Duracion total: 76 minutos\n",
      "    Gasolina: 500000 galones\n",
      "    \n"
     ]
    }
   ],
   "source": [
    "print(informe(\"Moon\", 10, 15, 51, main=300000, external=200000))"
   ]
  },
  {
   "cell_type": "code",
   "execution_count": 98,
   "metadata": {},
   "outputs": [],
   "source": [
    "def informe(destino,*tiempo,**tanques):\n",
    "    tanques_string =''\n",
    "    for tanque, gasolina in tanques.items():\n",
    "        tanques_string= tanques_string + \" \" + str(tanque) + \" \" +str(gasolina) + \" Galones\"\n",
    "\n",
    "    return f\"\"\"\n",
    "    Destino: {destino}\n",
    "    Duracion total: {sum(tiempo)} minutos\n",
    "    Gasolina: {tanques_string}\n",
    "    \"\"\""
   ]
  },
  {
   "cell_type": "code",
   "execution_count": 99,
   "metadata": {},
   "outputs": [
    {
     "name": "stdout",
     "output_type": "stream",
     "text": [
      "\n",
      "    Destino: Moon\n",
      "    Duracion total: 74 minutos\n",
      "    Gasolina:  main 300000 Galones external 200000 Galones\n",
      "    \n"
     ]
    }
   ],
   "source": [
    "print(informe(\"Moon\", 8, 11, 55, main=300000, external=200000))"
   ]
  }
 ],
 "metadata": {
  "interpreter": {
   "hash": "916dbcbb3f70747c44a77c7bcd40155683ae19c65e1c03b4aa3499c5328201f1"
  },
  "kernelspec": {
   "display_name": "Python 3.8.10 64-bit",
   "language": "python",
   "name": "python3"
  },
  "language_info": {
   "codemirror_mode": {
    "name": "ipython",
    "version": 3
   },
   "file_extension": ".py",
   "mimetype": "text/x-python",
   "name": "python",
   "nbconvert_exporter": "python",
   "pygments_lexer": "ipython3",
   "version": "3.8.10"
  },
  "orig_nbformat": 4
 },
 "nbformat": 4,
 "nbformat_minor": 2
}
