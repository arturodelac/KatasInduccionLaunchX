{
 "cells": [
  {
   "cell_type": "markdown",
   "metadata": {},
   "source": [
    "## Ejercicio 1: Transfromar Cadenas"
   ]
  },
  {
   "cell_type": "code",
   "execution_count": 88,
   "metadata": {},
   "outputs": [],
   "source": [
    "text = \"\"\"Interesting facts about the Moon. The Moon is Earth's only satellite. There are several interesting facts about the Moon and how it affects life here on Earth. On average, the Moon moves 4cm away from the Earth every year. This yearly drift is not significant enough to cause immediate effects on Earth. The highest daylight temperature of the Moon is 127 C.\"\"\""
   ]
  },
  {
   "cell_type": "code",
   "execution_count": 89,
   "metadata": {},
   "outputs": [
    {
     "name": "stdout",
     "output_type": "stream",
     "text": [
      "['Interesting facts about the Moon', \" The Moon is Earth's only satellite\", ' There are several interesting facts about the Moon and how it affects life here on Earth', ' On average, the Moon moves 4cm away from the Earth every year', ' This yearly drift is not significant enough to cause immediate effects on Earth', ' The highest daylight temperature of the Moon is 127 C', '']\n"
     ]
    }
   ],
   "source": [
    "sentence = text.split('.')\n",
    "print(sentence)"
   ]
  },
  {
   "cell_type": "code",
   "execution_count": 90,
   "metadata": {},
   "outputs": [],
   "source": [
    "keyWords = ['average','temperature','distance']"
   ]
  },
  {
   "cell_type": "code",
   "execution_count": 91,
   "metadata": {},
   "outputs": [
    {
     "name": "stdout",
     "output_type": "stream",
     "text": [
      " On average, the Moon moves 4cm away from the Earth every year\n",
      " The highest daylight temperature of the Moon is 127 C\n"
     ]
    }
   ],
   "source": [
    "for text in sentence:\n",
    "    for word in keyWords:\n",
    "        if word in text:\n",
    "            print(text)\n",
    "            break\n"
   ]
  },
  {
   "cell_type": "code",
   "execution_count": 92,
   "metadata": {},
   "outputs": [
    {
     "name": "stdout",
     "output_type": "stream",
     "text": [
      " On average, the Moon moves 4cm away from the Earth every year\n",
      " The highest daylight temperature of the Moon is 127 Celsius\n"
     ]
    }
   ],
   "source": [
    "for text in sentence:\n",
    "    for word in keyWords:\n",
    "        if word in text:\n",
    "            print(text.replace('C','Celsius'))\n",
    "            break"
   ]
  },
  {
   "cell_type": "markdown",
   "metadata": {},
   "source": [
    "## Ejercicio 2: Formateando Cadenas"
   ]
  },
  {
   "cell_type": "code",
   "execution_count": 93,
   "metadata": {},
   "outputs": [],
   "source": [
    "name = \"Moon\"\n",
    "gravity = 0.00162 # in kms\n",
    "planet = \"Earth\""
   ]
  },
  {
   "cell_type": "code",
   "execution_count": 94,
   "metadata": {},
   "outputs": [
    {
     "name": "stdout",
     "output_type": "stream",
     "text": [
      "Datos de gravedad sobre Moon\n"
     ]
    }
   ],
   "source": [
    "title = f'Datos de gravedad sobre {name}'\n",
    "print (title)"
   ]
  },
  {
   "cell_type": "code",
   "execution_count": 95,
   "metadata": {},
   "outputs": [
    {
     "name": "stdout",
     "output_type": "stream",
     "text": [
      "------------------------------------------------------------ \n",
      "Nombre del planeta: Earth \n",
      "Gravedad en Moon: 1.6199999999999999 \n",
      "\n"
     ]
    }
   ],
   "source": [
    "info = f\"\"\"{'-'*60} \n",
    "Nombre del planeta: {planet} \n",
    "Gravedad en {name}: {gravity * 1000} m/s2\n",
    "\"\"\"\n",
    "print(info)"
   ]
  },
  {
   "cell_type": "code",
   "execution_count": 96,
   "metadata": {},
   "outputs": [
    {
     "name": "stdout",
     "output_type": "stream",
     "text": [
      "Datos de gravedad sobre Moon\n",
      "------------------------------------------------------------ \n",
      "Nombre del planeta: Earth \n",
      "Gravedad en Moon: 1.6199999999999999 \n",
      "\n"
     ]
    }
   ],
   "source": [
    "sumString = f\"\"\"{title}\"\"\" + f\"\"\"\\n{info}\"\"\"\n",
    "print(sumString)"
   ]
  },
  {
   "cell_type": "code",
   "execution_count": 97,
   "metadata": {},
   "outputs": [],
   "source": [
    "name = \"Ganimedes\"\n",
    "gravity = 0.00143 \n",
    "planet = \"Marte\""
   ]
  },
  {
   "cell_type": "code",
   "execution_count": 98,
   "metadata": {},
   "outputs": [
    {
     "name": "stdout",
     "output_type": "stream",
     "text": [
      "Datos de gravedad sobre Moon\n",
      "------------------------------------------------------------ \n",
      "Nombre del planeta: Earth \n",
      "Gravedad en Moon: 1.6199999999999999 \n",
      "\n"
     ]
    }
   ],
   "source": [
    "sumString = f\"\"\"{title}\"\"\" + f\"\"\"\\n{info}\"\"\"\n",
    "print(sumString)"
   ]
  },
  {
   "cell_type": "code",
   "execution_count": 106,
   "metadata": {},
   "outputs": [
    {
     "name": "stdout",
     "output_type": "stream",
     "text": [
      "\n",
      "Datos de Gravedad sobre: Ganimedes\n",
      "------------------------------------------------------------\n",
      "Nombre del planeta: Marte\n",
      "Gravedad en Ganimedes: 5148.0 m/s2\n",
      "\n"
     ]
    }
   ],
   "source": [
    "##Nueva plantilla\n",
    "gravity = gravity *1000\n",
    "info = \"\"\"\n",
    "Datos de Gravedad sobre: {0}\n",
    "------------------------------------------------------------\n",
    "Nombre del planeta: {1}\n",
    "Gravedad en {0}: {2} m/s2\n",
    "\"\"\".format(name,planet,gravity)\n",
    "print(info)"
   ]
  }
 ],
 "metadata": {
  "interpreter": {
   "hash": "916dbcbb3f70747c44a77c7bcd40155683ae19c65e1c03b4aa3499c5328201f1"
  },
  "kernelspec": {
   "display_name": "Python 3.8.10 64-bit",
   "language": "python",
   "name": "python3"
  },
  "language_info": {
   "codemirror_mode": {
    "name": "ipython",
    "version": 3
   },
   "file_extension": ".py",
   "mimetype": "text/x-python",
   "name": "python",
   "nbconvert_exporter": "python",
   "pygments_lexer": "ipython3",
   "version": "3.8.10"
  },
  "orig_nbformat": 4
 },
 "nbformat": 4,
 "nbformat_minor": 2
}
